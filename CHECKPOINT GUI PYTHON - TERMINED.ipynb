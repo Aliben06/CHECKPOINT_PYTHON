{
 "cells": [
  {
   "cell_type": "code",
   "execution_count": 1,
   "id": "335c9f04",
   "metadata": {},
   "outputs": [
    {
     "data": {
      "text/plain": [
       "'Import the Tkinter module by writing import tkinter as tk at the beginning of your code.\\nDefine a function named fahrenheit_to_celsius() that will be called when the conversion button is clicked. This function should convert the entered temperature from Fahrenheit to Celsius and display the result in the label.\\nCreate a Tkinter window by writing window = tk.Tk(). Set the title of the window to \"Temperature Converter\" by writing window.title(\"Temperature Converter\").\\nSet the window to a fixed size by writing window.resizable(width=False, height=False).\\nCreate a frame to hold the Fahrenheit entry widget and label. Write frm_entry = tk.Frame(master=window) to create the frame.\\nCreate an entry widget to accept the temperature in Fahrenheit. Write ent_temperature = tk.Entry(master=frm_entry, width=10) to create the entry widget.\\nCreate a label widget to display the degree symbol and the text \"F\". Write lbl_temp = tk.Label(master=frm_entry, text=\"℉\") to create the label widget.\\nUse the grid() geometry manager to arrange the entry and label widgets in the frame. Write ent_temperature.grid(row=0, column=0, sticky=\"e\") and lbl_temp.grid(row=0, column=1, sticky=\"w\") to arrange the widgets.\\nCreate a button widget to initiate the conversion process. Write btn_convert = tk.Button(master=window, text=\"⮕\", command=fahrenheit_to_celsius) to create the button widget.\\nCreate a label widget to display the result of the conversion in Celsius. Write lbl_result = tk.Label(master=window, text=\"℃\") to create the label widget.\\nUse the grid() geometry manager to arrange the frame, button, and result label widgets. Write frm_entry.grid(row=0, column=0, padx=10), btn_convert.grid(row=0, column=1, pady=10), and lbl_result.grid(row=0, column=2, padx=10) to arrange the widgets.\\nCall the mainloop() method of the window object to start the application.'"
      ]
     },
     "execution_count": 1,
     "metadata": {},
     "output_type": "execute_result"
    }
   ],
   "source": [
    "'''Import the Tkinter module by writing import tkinter as tk at the beginning of your code.\n",
    "Define a function named fahrenheit_to_celsius() that will be called when the conversion button is clicked. This function should convert the entered temperature from Fahrenheit to Celsius and display the result in the label.\n",
    "Create a Tkinter window by writing window = tk.Tk(). Set the title of the window to \"Temperature Converter\" by writing window.title(\"Temperature Converter\").\n",
    "Set the window to a fixed size by writing window.resizable(width=False, height=False).\n",
    "Create a frame to hold the Fahrenheit entry widget and label. Write frm_entry = tk.Frame(master=window) to create the frame.\n",
    "Create an entry widget to accept the temperature in Fahrenheit. Write ent_temperature = tk.Entry(master=frm_entry, width=10) to create the entry widget.\n",
    "Create a label widget to display the degree symbol and the text \"F\". Write lbl_temp = tk.Label(master=frm_entry, text=\"\\N{DEGREE FAHRENHEIT}\") to create the label widget.\n",
    "Use the grid() geometry manager to arrange the entry and label widgets in the frame. Write ent_temperature.grid(row=0, column=0, sticky=\"e\") and lbl_temp.grid(row=0, column=1, sticky=\"w\") to arrange the widgets.\n",
    "Create a button widget to initiate the conversion process. Write btn_convert = tk.Button(master=window, text=\"\\N{RIGHTWARDS BLACK ARROW}\", command=fahrenheit_to_celsius) to create the button widget.\n",
    "Create a label widget to display the result of the conversion in Celsius. Write lbl_result = tk.Label(master=window, text=\"\\N{DEGREE CELSIUS}\") to create the label widget.\n",
    "Use the grid() geometry manager to arrange the frame, button, and result label widgets. Write frm_entry.grid(row=0, column=0, padx=10), btn_convert.grid(row=0, column=1, pady=10), and lbl_result.grid(row=0, column=2, padx=10) to arrange the widgets.\n",
    "Call the mainloop() method of the window object to start the application.'''"
   ]
  },
  {
   "cell_type": "code",
   "execution_count": 17,
   "id": "8c37453e",
   "metadata": {},
   "outputs": [],
   "source": [
    "import tkinter as tk\n",
    "\n",
    "def fahrenheit_to_celsius():\n",
    "    fahrenheit = float(ent_temperature.get())\n",
    "    celsius = (fahrenheit - 32) * 5/9\n",
    "    lbl_result[\"text\"] = f\"{round(celsius, 2)} \\N{DEGREE CELSIUS}\"\n",
    "\n",
    "window = tk.Tk()\n",
    "window.title(\"Temperature Converter\")\n",
    "window.resizable(width=False, height=False)\n",
    "frm_entry = tk.Frame(master=window)\n",
    "ent_temperature = tk.Entry(master=frm_entry, width=10)\n",
    "lbl_temp = tk.Label(master=frm_entry, text=\"\\N{DEGREE FAHRENHEIT}\")\n",
    "ent_temperature.grid(row=0, column=0, sticky=\"e\")\n",
    "lbl_temp.grid(row=0, column=1, sticky=\"w\") \n",
    "btn_convert = tk.Button(master=window, text=\"\\N{RIGHTWARDS BLACK ARROW}\", command=fahrenheit_to_celsius)\n",
    "lbl_result = tk.Label(master=window, text=\"\\N{DEGREE CELSIUS}\")\n",
    "frm_entry.grid(row=0, column=0, padx=10)\n",
    "btn_convert.grid(row=0, column=1, pady=10)\n",
    "lbl_result.grid(row=0, column=2, padx=10)\n",
    "window.mainloop()\n",
    "\n"
   ]
  },
  {
   "cell_type": "code",
   "execution_count": null,
   "id": "fb5ee418",
   "metadata": {},
   "outputs": [],
   "source": []
  }
 ],
 "metadata": {
  "kernelspec": {
   "display_name": "Python 3 (ipykernel)",
   "language": "python",
   "name": "python3"
  },
  "language_info": {
   "codemirror_mode": {
    "name": "ipython",
    "version": 3
   },
   "file_extension": ".py",
   "mimetype": "text/x-python",
   "name": "python",
   "nbconvert_exporter": "python",
   "pygments_lexer": "ipython3",
   "version": "3.9.13"
  }
 },
 "nbformat": 4,
 "nbformat_minor": 5
}
