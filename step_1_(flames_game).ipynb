{
  "nbformat": 4,
  "nbformat_minor": 0,
  "metadata": {
    "colab": {
      "provenance": [],
      "include_colab_link": true
    },
    "kernelspec": {
      "name": "python3",
      "display_name": "Python 3"
    },
    "language_info": {
      "name": "python"
    }
  },
  "cells": [
    {
      "cell_type": "markdown",
      "metadata": {
        "id": "view-in-github",
        "colab_type": "text"
      },
      "source": [
        "<a href=\"https://colab.research.google.com/github/Aliben06/MY_CHECKPOINTS_PYTHON/blob/main/step_1_(flames_game).ipynb\" target=\"_parent\"><img src=\"https://colab.research.google.com/assets/colab-badge.svg\" alt=\"Open In Colab\"/></a>"
      ]
    },
    {
      "cell_type": "code",
      "metadata": {
        "id": "Xu6LpGQHeCo_",
        "outputId": "507beb34-6a11-45df-ae02-4816fa85d028",
        "colab": {
          "base_uri": "https://localhost:8080/",
          "height": 200
        }
      },
      "source": [
        "# function for removing common characters\n",
        "# with their respective occurrences\n",
        "def remove_match_char(list1, list2):\n",
        " \n",
        "    for i in range(len(list1)) :\n",
        "        for j in range(len(list2)) :\n",
        " \n",
        "            # if common character is found\n",
        "            # then remove that character\n",
        "            # and return list of concatenated\n",
        "            # list with True Flag\n",
        "            if list1[i] == list2[j] :\n",
        "                c = list1[i]\n",
        " \n",
        "                # remove character from the list\n",
        "                list1.remove(c)\n",
        "                list2.remove(c)\n",
        " \n",
        "                # concatenation of two list elements with *\n",
        "                # * is act as border mark here\n",
        "                list3 = list1 + [\"*\"] + list2\n",
        " \n",
        "                # return the concatenated list with True flag\n",
        "                return [list3, True]\n",
        " \n",
        "    # no common characters is found\n",
        "    # return the concatenated list with False flag\n",
        "    list3 = list1 + [\"*\"] + list2\n",
        "    return [list3, False]\n",
        " "
      ],
      "execution_count": 5,
      "outputs": [
        {
          "output_type": "error",
          "ename": "NameError",
          "evalue": "ignored",
          "traceback": [
            "\u001b[0;31m---------------------------------------------------------------------------\u001b[0m",
            "\u001b[0;31mNameError\u001b[0m                                 Traceback (most recent call last)",
            "\u001b[0;32m<ipython-input-5-1dc10ae289aa>\u001b[0m in \u001b[0;36m<cell line: 31>\u001b[0;34m()\u001b[0m\n\u001b[1;32m     29\u001b[0m     \u001b[0;32mreturn\u001b[0m \u001b[0;34m[\u001b[0m\u001b[0mlist3\u001b[0m\u001b[0;34m,\u001b[0m \u001b[0;32mFalse\u001b[0m\u001b[0;34m]\u001b[0m\u001b[0;34m\u001b[0m\u001b[0;34m\u001b[0m\u001b[0m\n\u001b[1;32m     30\u001b[0m \u001b[0;34m\u001b[0m\u001b[0m\n\u001b[0;32m---> 31\u001b[0;31m \u001b[0mremove_match_char\u001b[0m\u001b[0;34m(\u001b[0m\u001b[0mali\u001b[0m\u001b[0;34m,\u001b[0m\u001b[0mikram\u001b[0m\u001b[0;34m)\u001b[0m\u001b[0;34m\u001b[0m\u001b[0;34m\u001b[0m\u001b[0m\n\u001b[0m",
            "\u001b[0;31mNameError\u001b[0m: name 'ali' is not defined"
          ]
        }
      ]
    },
    {
      "cell_type": "code",
      "source": [],
      "metadata": {
        "id": "eW9lu08Fg5Uj"
      },
      "execution_count": null,
      "outputs": []
    }
  ]
}