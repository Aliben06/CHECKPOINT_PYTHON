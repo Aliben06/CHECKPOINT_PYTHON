{
 "cells": [
  {
   "cell_type": "code",
   "execution_count": 1,
   "id": "cbfc12d0",
   "metadata": {},
   "outputs": [
    {
     "name": "stdout",
     "output_type": "stream",
     "text": [
      "(1, 2, 3)\n"
     ]
    }
   ],
   "source": [
    "#Instruction 1: Write a Python class named Point3D defined by x, y, and z. Define a method that returns (x, y ,z). \n",
    "#This tells Python to represent this object in the following format: (x, y, z). \n",
    "#Then create a variable named my_point containing a new instance of Point3D with x=1, y=2, and z=3 and print it.\n",
    "\n",
    "class Point3D:\n",
    "    def __init__(self, x, y, z):\n",
    "        self.x=x\n",
    "        self.y=y\n",
    "        self.z=z\n",
    "\n",
    "    def get_coordinates(self):\n",
    "        return (self.x, self.y, self.z)       \n",
    "    \n",
    "my_point = Point3D(1, 2, 3)\n",
    "print(my_point.get_coordinates())"
   ]
  },
  {
   "cell_type": "code",
   "execution_count": 2,
   "id": "f5fb79cd",
   "metadata": {},
   "outputs": [
    {
     "name": "stdout",
     "output_type": "stream",
     "text": [
      "The area of the rectangle is:  12\n",
      "The perimeter of the rectangle is:  14\n"
     ]
    }
   ],
   "source": [
    "#Instruction 2:Write a Python class named Rectangle constructed by a length and width. \n",
    "#Define two methods, area and perimeter, which will compute the area and the perimeter of therectangle. \n",
    "#Then create a variable named my_rectangle containing a new instance of Rectangle with width=3 and length = 4 \n",
    "#and compute both area and perimeter ( the area is expected to be 3*4=12 and perimeter 2*(3+4)=14).\n",
    "\n",
    "class Rectangle:\n",
    "    def __init__(self, lenght, widht):\n",
    "        self.lenght = lenght\n",
    "        self.widht = widht\n",
    "        \n",
    "    def area(self):   \n",
    "        return self.lenght*self.widht\n",
    "    \n",
    "    def perimeter(self):\n",
    "        return (self.lenght+self.widht)*2\n",
    "    \n",
    "my_rectangle = Rectangle(4, 3)\n",
    "\n",
    "print (\"The area of the rectangle is: \",my_rectangle.area())\n",
    "print (\"The perimeter of the rectangle is: \", my_rectangle.perimeter())"
   ]
  },
  {
   "cell_type": "code",
   "execution_count": 3,
   "id": "08422d6d",
   "metadata": {},
   "outputs": [
    {
     "name": "stdout",
     "output_type": "stream",
     "text": [
      "L'aire du cercle est : 78.53981633974483\n",
      "Le périmètre du cercle est : 31.41592653589793\n",
      "Le point (3, 4) appartient au cercle.\n"
     ]
    }
   ],
   "source": [
    "#Instruction 3: Write a Python class named Circle constructed by its center O and radius r. Define two\n",
    "#methods, area and perimeter, which will compute the area and the perimeter of the circle,\n",
    "#and is Inside() method which allows you to test whether a point A(x, y) belongs to the circle C(O, r) or not\n",
    "\n",
    "import math\n",
    "\n",
    "class Circle:\n",
    "    def __init__(self, O, r):\n",
    "        self.O = O\n",
    "        self.r = r\n",
    "    \n",
    "    def area(self):\n",
    "        return math.pi*(self.r**2)\n",
    "    \n",
    "    def perimeter(self):\n",
    "        return 2*math.pi*self.r\n",
    "    \n",
    "    def is_inside(self, x, y):\n",
    "        distance = math.sqrt((self.O[0]-x)**2 + (self.O[1]-y)**2)\n",
    "        if distance <= self.r:\n",
    "            return True \n",
    "        else:\n",
    "            return False\n",
    "          \n",
    "\n",
    "my_circle = Circle((0,0),5)\n",
    "print(\"L'aire du cercle est :\",my_circle.area())\n",
    "print(\"Le périmètre du cercle est :\",my_circle.perimeter())\n",
    "\n",
    "if my_circle.is_inside(3, 4):\n",
    "    print(\"Le point (3, 4) appartient au cercle.\")\n",
    "else:\n",
    "    print(\"Le point (3, 4) n'appartient pas au cercle.\")"
   ]
  },
  {
   "cell_type": "code",
   "execution_count": null,
   "id": "17e06ae1",
   "metadata": {},
   "outputs": [
    {
     "name": "stdout",
     "output_type": "stream",
     "text": [
      "Solde initial: 0\n",
      "Montant du dépôt: 14525\n",
      "Montant du retrait: 4525\n",
      "Solde actuel:  10000.0\n",
      "Montant du dépôt: 6870\n",
      "Montant du retrait: 0\n",
      "Solde actuel:  16870.0\n",
      "Montant du dépôt: 0\n",
      "Montant du retrait: 870\n",
      "Solde actuel:  16000.0\n"
     ]
    }
   ],
   "source": [
    "#Instruction 4 : Suppose we want to model a bank account with support for deposit and withdraw operations. \n",
    "#Let’s create a Python class named Bank defined by its balance. \n",
    "#Define twomethods, deposit and withdraw, to compute the new amount of each operation.\n",
    "\n",
    "class Bank:\n",
    "    def __init__(self, balance):\n",
    "        self.balance = balance\n",
    "        \n",
    "    def deposit(self):\n",
    "        amount = float(input(\"Montant du dépôt: \"))\n",
    "        self.balance += amount\n",
    "        return amount\n",
    "        \n",
    "    def withdraw(self):    \n",
    "        amount = float(input(\"Montant du retrait: \"))\n",
    "        if self.balance >= amount:\n",
    "            self.balance -= amount\n",
    "            return amount\n",
    "        else:\n",
    "            print(\"Solde insuffisant\")\n",
    "        \n",
    "    def get_balance(self):    \n",
    "        return self.balance\n",
    "        \n",
    "my_account = Bank(0)\n",
    "print(\"Solde initial:\",my_account.get_balance())\n",
    "\n",
    "while True :\n",
    "    my_account.deposit()\n",
    "    my_account.withdraw()\n",
    "    print(\"Solde actuel: \",my_account.get_balance())\n",
    "    "
   ]
  },
  {
   "cell_type": "code",
   "execution_count": null,
   "id": "61ed7dce",
   "metadata": {},
   "outputs": [],
   "source": []
  }
 ],
 "metadata": {
  "kernelspec": {
   "display_name": "Python 3 (ipykernel)",
   "language": "python",
   "name": "python3"
  },
  "language_info": {
   "codemirror_mode": {
    "name": "ipython",
    "version": 3
   },
   "file_extension": ".py",
   "mimetype": "text/x-python",
   "name": "python",
   "nbconvert_exporter": "python",
   "pygments_lexer": "ipython3",
   "version": "3.9.13"
  }
 },
 "nbformat": 4,
 "nbformat_minor": 5
}
