{
 "cells": [
  {
   "cell_type": "code",
   "execution_count": 1,
   "id": "40362957",
   "metadata": {},
   "outputs": [
    {
     "name": "stdout",
     "output_type": "stream",
     "text": [
      "Entrer le 1er numéro: 12\n",
      "Entrer le 2eme numéro: 15\n",
      "Entrer le 3eme numéro: 65\n",
      "Le numéro le plus grand est:  65\n"
     ]
    }
   ],
   "source": [
    "#Question 1: Write a Python function to find the largest (max) of three numbers. \n",
    "#For example, the max of these three numbers (20, 35, 19) is 35.\n",
    "\n",
    "numbers = (20, 35, 19)\n",
    "max(numbers)\n",
    "\n",
    "#Or\n",
    "\n",
    "a=int(input(\"Entrer le 1er numéro: \"))\n",
    "b=int(input(\"Entrer le 2eme numéro: \"))\n",
    "c=int(input(\"Entrer le 3eme numéro: \"))\n",
    "largest_number=max(a,b,c)\n",
    "print(\"Le numéro le plus grand est: \",largest_number)"
   ]
  },
  {
   "cell_type": "code",
   "execution_count": 2,
   "id": "319c8cae",
   "metadata": {},
   "outputs": [
    {
     "name": "stdout",
     "output_type": "stream",
     "text": [
      "Entrer deux nombres le calcul d'addition et de soustraction sera effectué entre ceux-ci: \n",
      "Entrer le 1er nombre: 40\n",
      "Entrer le 2eme nombre: 10\n",
      "(50, 30)\n"
     ]
    }
   ],
   "source": [
    "#Question 2: Write a function calculation() so it can accept two variables and calculate the addition and subtraction of them. \n",
    "#It must return both addition and subtraction in a single return call.\n",
    "#For example: calculation(40, 10) should produce 50, 30\n",
    "\n",
    "def calculation(a,b):\n",
    "    result=(a+b),(a-b)\n",
    "    return result\n",
    "\n",
    "print(\"Entrer deux nombres le calcul d'addition et de soustraction sera effectué entre ceux-ci: \")\n",
    "g1=int(input(\"Entrer le 1er nombre: \"))\n",
    "g2=int(input(\"Entrer le 2eme nombre: \"))\n",
    "\n",
    "print(calculation(g1,g2))"
   ]
  },
  {
   "cell_type": "code",
   "execution_count": 3,
   "id": "195d1533",
   "metadata": {},
   "outputs": [
    {
     "name": "stdout",
     "output_type": "stream",
     "text": [
      "Voici la liste 1: [5, 8, 67, 3, 2, 46]\n",
      "Le resultat de l'addtition des éléments de la liste 1 par eux-mêmes est: 131\n",
      "Le resultat de la multiplication des éléments de la liste 1 par eux-mêmes est: 739680\n",
      "Voici les éléments dont la position est un nombre pair de l'indexe de la liste 1: [5, 67, 2]\n",
      "Le resultat de l'addtition de ces éléments par eux-mêmes est: 74\n",
      "Voici les éléments dont la position est un nombre impair de l'indexe de la liste 1: [8, 3, 46]\n",
      "Le resultat de la multiplication des ces éléments par eux-mêmes est: 1104\n"
     ]
    }
   ],
   "source": [
    "#Question 3: Write a function that sums the elements of a list of integers.\n",
    "liste1 = [5, 8, 67, 3, 2, 46]\n",
    "print(\"Voici la liste 1:\",liste1)\n",
    "def add(liste, result1=0):\n",
    "    for i in liste:\n",
    "        result1 += i       \n",
    "    return result1\n",
    "resultat_add_liste1 = add(liste1)\n",
    "print(\"Le resultat de l'addtition des éléments de la liste 1 par eux-mêmes est:\",resultat_add_liste1)\n",
    "\n",
    "#Write a function that multiplies the elements of an integer list.\n",
    "def mul(liste, result2=1):\n",
    "    for i in liste:\n",
    "        result2 *= i\n",
    "    return result2\n",
    "resultat_mul_liste1 = mul(liste1)  \n",
    "print(\"Le resultat de la multiplication des éléments de la liste 1 par eux-mêmes est:\",resultat_mul_liste1)\n",
    "\n",
    "#Use the two functions to sum the elements whose position is an even number (0,2,4…) and multiply the rest.\n",
    "#Hint: Consider extracting two lists from a first list.\n",
    "liste2 = liste1[::2]\n",
    "print(\"Voici les éléments dont la position est un nombre pair de l'indexe de la liste 1:\",liste2)\n",
    "resultat_liste2 = add(liste2)\n",
    "print(\"Le resultat de l'addtition de ces éléments par eux-mêmes est:\",resultat_liste2)\n",
    "\n",
    "liste3 = liste1.copy() \n",
    "del liste3[::2]\n",
    "print(\"Voici les éléments dont la position est un nombre impair de l'indexe de la liste 1:\",liste3) \n",
    "resultat_liste3 = mul(liste3)  \n",
    "print(\"Le resultat de la multiplication des ces éléments par eux-mêmes est:\",resultat_liste3)"
   ]
  },
  {
   "cell_type": "code",
   "execution_count": 4,
   "id": "708c3e21",
   "metadata": {},
   "outputs": [
    {
     "name": "stdout",
     "output_type": "stream",
     "text": [
      "131\n",
      "739680\n",
      "74\n",
      "1104\n"
     ]
    }
   ],
   "source": [
    "#Or\n",
    "liste1 = [5, 8, 67, 3, 2, 46]\n",
    "def sum_list(lst):\n",
    "    return sum(lst)\n",
    "print(sum_list(liste1))\n",
    "\n",
    "def multiply_list(lst):\n",
    "    result = 1\n",
    "    for num in lst:\n",
    "        result *= num\n",
    "    return result\n",
    "print(multiply_list(liste1))\n",
    "\n",
    "def sum_even_multiply_odd(lst):\n",
    "    even_nums = lst[::2]\n",
    "    odd_nums = lst[1::2]\n",
    "    sum_even = sum_list(even_nums)\n",
    "    multiply_odd = multiply_list(odd_nums)\n",
    "    return sum_even, multiply_odd\n",
    "print(sum_even_multiply_odd(liste1)[0])\n",
    "print(sum_even_multiply_odd(liste1)[1])"
   ]
  },
  {
   "cell_type": "code",
   "execution_count": 5,
   "id": "81266732",
   "metadata": {},
   "outputs": [
    {
     "name": "stdout",
     "output_type": "stream",
     "text": [
      "{'knowledge': 'Data science', 'tool': 'Python', 'year': '2020'}\n",
      "{'knowledge': 'Language', 'tool': 'Java', 'year': 'Deuxmille'}\n"
     ]
    }
   ],
   "source": [
    "#Question 4: Write a function that displays the first letter of the dictionary value in upper case by using the return statement.\n",
    "\n",
    "dictionary1 = {\"knowledge\":\"data science\",\"tool\":\"python\", \"year\":\"2020\"}\n",
    "dictionary2 = {\"knowledge\":\"language\",\"tool\":\"java\", \"year\":\"deuxmille\"}\n",
    "\n",
    "def upper_case (dictionary):\n",
    "    for i in dictionary:\n",
    "        dictionary[i] = dictionary[i].capitalize()\n",
    "    return dictionary\n",
    "    \n",
    "upper_case(dictionary1)\n",
    "upper_case(dictionary2)\n",
    "print(dictionary1)    \n",
    "print(dictionary2)\n"
   ]
  },
  {
   "cell_type": "code",
   "execution_count": 6,
   "id": "ca12427b",
   "metadata": {},
   "outputs": [
    {
     "name": "stdout",
     "output_type": "stream",
     "text": [
      "{'knowledge': 'Data science', 'tool': 'Python', 'year': '2020'}\n",
      "{'knowledge': 'Language', 'tool': 'Java', 'year': 'Deuxmille'}\n"
     ]
    }
   ],
   "source": [
    "#Or\n",
    "dictionary1 = {\"knowledge\":\"data science\",\"tool\":\"python\", \"year\":\"2020\"}\n",
    "dictionary2 = {\"knowledge\":\"language\",\"tool\":\"java\", \"year\":\"deuxmille\"}\n",
    "\n",
    "def upper_case (dictionary):\n",
    "    for i in dictionary:\n",
    "        dictionary[i] = dictionary[i][0].upper() + dictionary[i][1:]\n",
    "    return dictionary\n",
    "    \n",
    "upper_case(dictionary1)\n",
    "upper_case(dictionary2)\n",
    "print(dictionary1)    \n",
    "print(dictionary2)"
   ]
  },
  {
   "cell_type": "code",
   "execution_count": 7,
   "id": "0d90bfd9",
   "metadata": {},
   "outputs": [
    {
     "name": "stdout",
     "output_type": "stream",
     "text": [
      "The largest word in the values dictionary1 is: knowledge\n",
      "The largest word in the values dictionary2 is: two-thousand\n"
     ]
    }
   ],
   "source": [
    "#Question 5: Write a function that returns the largest word in the dictionary.\n",
    "dictionary1 = {\"knowledge\":\"data science\",\"tool\":\"pythoon\", \"year\":\"2020\"}\n",
    "dictionary2 = {\"knowledge\":\"languages\",\"tool\":\"java\", \"year\":\"two-thousand\"}\n",
    "\n",
    "def largest_word(dictionary):\n",
    "    words = []\n",
    "    largest = ''\n",
    "    for value, key in dictionary.items():\n",
    "        words = value.split() + key.split()    \n",
    "        for word in words:\n",
    "            if len(word) > len(largest):\n",
    "                largest = word\n",
    "    return largest\n",
    "\n",
    "print(\"The largest word in the values dictionary1 is:\",largest_word(dictionary1))\n",
    "print(\"The largest word in the values dictionary2 is:\",largest_word(dictionary2))"
   ]
  },
  {
   "cell_type": "code",
   "execution_count": 10,
   "id": "21133954",
   "metadata": {},
   "outputs": [
    {
     "name": "stdout",
     "output_type": "stream",
     "text": [
      "The largest word in the values dictionary1 is: datascience\n",
      "The largest word in the values dictionary2 is: knowledge\n"
     ]
    }
   ],
   "source": [
    "#Or\n",
    "dictionary1 = {\"knowledge\": \"datascience\", \"tool\": \"python\", \"year\": \"2020\"}\n",
    "dictionary2 = {\"knowledge\": \"language\", \"tool\": \"java\", \"year\": \"two thousand\"}\n",
    "def largest_word(dictionary):\n",
    "    words = []\n",
    "    for key, value in dictionary.items():\n",
    "        words += key.split() + value.split()\n",
    "    largest = ''\n",
    "    for word in words:\n",
    "        if len(word) > len(largest):\n",
    "            largest = word\n",
    "    return largest\n",
    "\n",
    "print(\"The largest word in the values dictionary1 is:\",largest_word(dictionary1))\n",
    "print(\"The largest word in the values dictionary2 is:\",largest_word(dictionary2))"
   ]
  },
  {
   "cell_type": "code",
   "execution_count": 13,
   "id": "b33f9d88",
   "metadata": {},
   "outputs": [
    {
     "name": "stdout",
     "output_type": "stream",
     "text": [
      "Taper 5 mots séparés par des tiret '-': green-red-yellow-black-white\n",
      "black-green-red-white-yellow\n"
     ]
    }
   ],
   "source": [
    "#Question 6: Write a Python program that accepts a hyphen-separated sequence of words as input and prints the words in \n",
    "#a hyphen-separated sequence after sorting them alphabetically.\n",
    "#Sample items: green-red-yellow-black-white. Expected result: black-green-red-white-yellow\n",
    "#Hint: There's a split function to separate your input string into words and a sort function to sort.\n",
    "\n",
    "given_words=input(\"Taper 5 mots séparés par des tiret '-': \").split(\"-\")\n",
    "sorted_list = sorted(given_words, key=lambda x: str.lower(x))\n",
    "result = \"-\".join(sorted_list)\n",
    "print(result)\n"
   ]
  },
  {
   "cell_type": "code",
   "execution_count": 14,
   "id": "29b79ac7",
   "metadata": {},
   "outputs": [
    {
     "name": "stdout",
     "output_type": "stream",
     "text": [
      "Voici la fonction: Q = racine carrée de [(2 * 50 * D)/30]. D = les nombres que vous allez donner.\n",
      "Entrer 3 nombres séparés par des virgules, le resultat s'affichera conformement à la formule: 100,150,180\n",
      "Le resultat est: (18, 22, 24)\n"
     ]
    }
   ],
   "source": [
    "#Question 7 (Bonus): Write a function that calculates and prints the value according to the given formula: \n",
    "#Q = square root of [(2 * C * D)/H]. Following are the fixed values of C and H: C is 50, and H is 30. \n",
    "#D is the variable whose values should be input to your program in a comma-separated sequence. \n",
    "#Example: Let us assume the following comma-separated input sequence is given to the function: 100,150,180. \n",
    "#Expected result: 18,22,24 \n",
    "#Hints: If the output received is in decimal form, it should be rounded off to its nearest value. For example, \n",
    "#if the output received is 26.0, it should be printed as 26. In the case of input data being supplied to the question, \n",
    "#it should be assumed to be a console input. \n",
    "\"\"\"\"\n",
    "Écrivez une fonction qui calcule et imprime la valeur selon la formule donnée :#Q = racine carrée de [(2 * C * D)/H]. \n",
    "Voici les valeurs fixes de C et H: C est 50 et H est 30. \n",
    "#D est la variable dont les valeurs doivent être entrées dans votre programme dans une séquence séparée par des virgules. \n",
    "#Example: Supposons que la séquence d’entrée séparée par des virgules suivante soit donnée à la fonction: 100,150,180. \n",
    "Résultat prévu : 18,22,24 \n",
    "Conseils : Si la sortie reçue est sous forme décimale, elle doit être arrondie à sa valeur la plus proche. \n",
    "Par exemple, si la sortie reçue est 26.0, elle doit être imprimée sous la forme 26. Dans le cas où des données\n",
    "d’entrée sont fournies à la question, il faut supposer qu’il s’agit d’une entrée de console. \"\"\"\n",
    "\n",
    "print(\"Voici la fonction: Q = racine carrée de [(2 * 50 * D)/30]. D = les nombres que vous allez donner.\")\n",
    "\n",
    "import math\n",
    "def formula(D):\n",
    "    C=50\n",
    "    H=30\n",
    "    Q=int(math.sqrt(((2*C*D))/H))\n",
    "    return Q\n",
    "\n",
    "given_number=(input(\"Entrer 3 nombres séparés par des virgules, le resultat s'affichera conformement à la formule: \"))\n",
    "D1=(given_number).split(\",\")\n",
    "#r1=given_number[0]\n",
    "#given_number=\"100,150,180\"\n",
    "#D1=(given_number).split(\",\")\n",
    "D2=int(D1[0]),int(D1[1]),int(D1[2])\n",
    "result=formula(D2[0]),formula(D2[1]),formula(D2[2])\n",
    "      \n",
    "print(\"Le resultat est:\",result)"
   ]
  },
  {
   "cell_type": "code",
   "execution_count": 15,
   "id": "f0da8935",
   "metadata": {},
   "outputs": [
    {
     "name": "stdout",
     "output_type": "stream",
     "text": [
      "Voici la fonction: Q = racine carrée de [(2 * 50 * D)/30]. D = les nombres que vous allez donner.\n",
      "Entrez 3 nombres séparés par des virgules. Le résultat s'affichera conformément à la formule : 100,150,180\n",
      "Le résultat est : [18, 22, 24]\n"
     ]
    }
   ],
   "source": [
    "#Or\n",
    "print(\"Voici la fonction: Q = racine carrée de [(2 * 50 * D)/30]. D = les nombres que vous allez donner.\")\n",
    "\n",
    "import math\n",
    "\n",
    "# Définition de la fonction pour calculer Q\n",
    "def formula(D):\n",
    "    C = 50\n",
    "    H = 30\n",
    "    Q = int(math.sqrt(((2 * C * D)) / H))\n",
    "    return Q\n",
    "\n",
    "# Demande à l'utilisateur d'entrer 3 nombres séparés par des virgules\n",
    "given_numbers = input(\"Entrez 3 nombres séparés par des virgules. Le résultat s'affichera conformément à la formule : \")\n",
    "\n",
    "# Convertit les nombres en une liste d'entiers,La fonction map(int, given_numbers.split(\",\")) est utilisée pour convertir \n",
    "#la chaîne de caractères d'entrée en une liste d'entiers. Ensuite, la liste résultante est passée à la fonction formula() \n",
    "#pour calculer le résultat de chaque nombre. Enfin, les résultats sont affichés.\n",
    "D_list = list(map(int, given_numbers.split(\",\")))\n",
    "\n",
    "# Calcule le résultat pour chaque nombre\n",
    "results = [formula(D) for D in D_list]\n",
    "\n",
    "# Affiche le résultat\n",
    "print(\"Le résultat est :\", results)"
   ]
  },
  {
   "cell_type": "code",
   "execution_count": 16,
   "id": "09bd63af",
   "metadata": {},
   "outputs": [
    {
     "name": "stdout",
     "output_type": "stream",
     "text": [
      "Voici la fonction: Q = racine carrée de [(2 * 50 * D)/30]. D = les nombres que vous allez donner.\n",
      "Entrer 3 nombres séparés par des virgules, le resultat s'affichera conformement à la formule: 100,150,180\n",
      "Le resultat est: (18, 22, 24)\n"
     ]
    }
   ],
   "source": [
    "#Or\n",
    "print(\"Voici la fonction: Q = racine carrée de [(2 * 50 * D)/30]. D = les nombres que vous allez donner.\")\n",
    "\n",
    "import math\n",
    "\n",
    "def formula(D):\n",
    "    C = 50\n",
    "    H = 30\n",
    "    Q = int(math.sqrt(((2 * C * D)) / H))\n",
    "    return Q\n",
    "\n",
    "given_number = input(\"Entrer 3 nombres séparés par des virgules, le resultat s'affichera conformement à la formule: \")\n",
    "D1 = given_number.split(\",\")\n",
    "D2 = int(D1[0]), int(D1[1]), int(D1[2])\n",
    "result = formula(D2[0]), formula(D2[1]), formula(D2[2])\n",
    "      \n",
    "print(\"Le resultat est:\", result)"
   ]
  }
 ],
 "metadata": {
  "kernelspec": {
   "display_name": "Python 3 (ipykernel)",
   "language": "python",
   "name": "python3"
  },
  "language_info": {
   "codemirror_mode": {
    "name": "ipython",
    "version": 3
   },
   "file_extension": ".py",
   "mimetype": "text/x-python",
   "name": "python",
   "nbconvert_exporter": "python",
   "pygments_lexer": "ipython3",
   "version": "3.9.13"
  }
 },
 "nbformat": 4,
 "nbformat_minor": 5
}
