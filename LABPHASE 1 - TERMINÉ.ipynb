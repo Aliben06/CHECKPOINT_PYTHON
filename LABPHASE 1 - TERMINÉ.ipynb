{
 "cells": [
  {
   "cell_type": "code",
   "execution_count": null,
   "id": "dc0e2a7c",
   "metadata": {},
   "outputs": [],
   "source": [
    "\"\"\"\"\"\n",
    "•\tTake the two names.\n",
    "•\tRemove the common characters with their respective common occurrences.\n",
    "•\tGet the count of the characters that are left.\n",
    "•\tTake FLAMES letters as [“F”, “L”, “A”, “M”, “E”, “S”]\n",
    "•\tStart removing letters using the count we got.\n",
    "•\tThe letter which lasts the process is the result.\n",
    "\"\"\"\"\"\n",
    "\n",
    "name1 = input(\"Entrer le premier prénom: \")\n",
    "name2 = input(\"Entrer le deuxième prénom: \")\n",
    "\n",
    "name1 = name1.lower().replace(\" \", \"\")\n",
    "name2 = name2.lower().replace(\" \", \"\")\n",
    " \n",
    "for char in name1:\n",
    "    if char in name2:\n",
    "        name1 = name1.replace(char, \"\", 1)\n",
    "        name2 = name2.replace(char, \"\", 1)\n",
    "    \n",
    "count = len(name1) + len(name2)\n",
    " \n",
    "flames = [\"F\", \"L\", \"A\", \"M\", \"E\", \"S\"]\n",
    "   \n",
    "index = 0\n",
    "while len(flames) > 1:\n",
    "    index = (index + count - 1) % len(flames)\n",
    "    flames.pop(index)\n",
    "     \n",
    "result = flames[0]\n",
    "print(\"Résultat:\", result)"
   ]
  },
  {
   "cell_type": "code",
   "execution_count": null,
   "id": "4f4b60c8",
   "metadata": {},
   "outputs": [],
   "source": []
  }
 ],
 "metadata": {
  "kernelspec": {
   "display_name": "Python 3 (ipykernel)",
   "language": "python",
   "name": "python3"
  },
  "language_info": {
   "codemirror_mode": {
    "name": "ipython",
    "version": 3
   },
   "file_extension": ".py",
   "mimetype": "text/x-python",
   "name": "python",
   "nbconvert_exporter": "python",
   "pygments_lexer": "ipython3",
   "version": "3.9.13"
  }
 },
 "nbformat": 4,
 "nbformat_minor": 5
}
