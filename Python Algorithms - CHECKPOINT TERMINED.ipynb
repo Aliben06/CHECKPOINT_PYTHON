{
 "cells": [
  {
   "cell_type": "code",
   "execution_count": 10,
   "id": "ba72fd30",
   "metadata": {},
   "outputs": [
    {
     "name": "stdout",
     "output_type": "stream",
     "text": [
      "6 is in sequence_a:  False\n",
      "5 is in sequence_a:  True\n"
     ]
    }
   ],
   "source": [
    "#1) Write a Python program for a binary search. Test Data: \n",
    "# binary_search([1,2,3,5,8], 6) -> False    /    binary_search([1,2,3,5,8], 5) -> True\n",
    "\n",
    "def binary_search(sequence, item):\n",
    "    begin_index = 0\n",
    "    end_index = len(sequence)-1\n",
    "    while begin_index <= end_index:\n",
    "        midpoint = begin_index + (end_index - begin_index) // 2\n",
    "        midpoint_value = sequence[midpoint]\n",
    "        if midpoint_value == item:\n",
    "            return True\n",
    "        elif item < midpoint_value:\n",
    "            end_index = midpoint - 1 \n",
    "        else:\n",
    "            begin_index = midpoint + 1\n",
    "    return False            \n",
    "\n",
    "sequence_a = [1,2,3,5,8]\n",
    "item_a = 6\n",
    "item_b = 5\n",
    "\n",
    "print(item_a,\"is in sequence_a: \",binary_search(sequence_a, item_a))\n",
    "print(item_b,\"is in sequence_a: \",binary_search(sequence_a, item_b))"
   ]
  },
  {
   "cell_type": "code",
   "execution_count": 19,
   "id": "7423587d",
   "metadata": {},
   "outputs": [
    {
     "name": "stdout",
     "output_type": "stream",
     "text": [
      "81\n"
     ]
    }
   ],
   "source": [
    "#2) Write a Python program to calculate the value of 'a' to the power 'b'. Test Data:(power(3,4) -> 81\n",
    "\n",
    "def power(a,b):\n",
    "    if b == 0:\n",
    "        return 1\n",
    "    else:\n",
    "        return a**b\n",
    "\n",
    "print(power(3,4))"
   ]
  },
  {
   "cell_type": "code",
   "execution_count": 20,
   "id": "1059a830",
   "metadata": {},
   "outputs": [
    {
     "name": "stdout",
     "output_type": "stream",
     "text": [
      "81\n"
     ]
    }
   ],
   "source": [
    "#Or by using a recursive algorithm:\n",
    "\n",
    "def power2(a, b):\n",
    "    if b == 0:\n",
    "        return 1\n",
    "    elif b % 2 == 0:\n",
    "        return power(a, b//2) * power(a, b//2)\n",
    "    else:\n",
    "        return a * power(a, b//2) * power(a, b//2)\n",
    "\n",
    "print(power2(3,4))    "
   ]
  },
  {
   "cell_type": "code",
   "execution_count": 33,
   "id": "6a343e7a",
   "metadata": {},
   "outputs": [
    {
     "name": "stdout",
     "output_type": "stream",
     "text": [
      "[13, 22, 29, 37, 42, 46, 49, 52, 56, 71]\n"
     ]
    }
   ],
   "source": [
    "# 3. Write a Python program to sort a list of elements using the bubble sort algorithm.\n",
    "# Sample Data: [29,13,22,37,52,49,46,71,56,42]  _  Expected result: [13, 22, 29, 37, 42, 46, 49, 56, 71]\n",
    "\n",
    "def bubbleSort(nlist):\n",
    "    for passnum in range(len(nlist) -1, 0, -1):\n",
    "        for i in range (passnum):\n",
    "            if nlist[i] > nlist[i+1]:\n",
    "                temp = nlist[i]\n",
    "                nlist[i] = nlist[i+1]\n",
    "                nlist[i+1] = temp\n",
    "    return nlist            \n",
    "\n",
    "my_list = [29,13,22,37,52,49,46,71,56,42]\n",
    "print(bubbleSort(my_list))\n"
   ]
  },
  {
   "cell_type": "code",
   "execution_count": 34,
   "id": "60ba2d73",
   "metadata": {},
   "outputs": [
    {
     "name": "stdout",
     "output_type": "stream",
     "text": [
      "[13, 22, 29, 37, 42, 46, 49, 52, 56, 71]\n"
     ]
    }
   ],
   "source": [
    "#4)Write a Python program to sort a list of elements using the merge sort algorithm.\n",
    "# Sample Data: [29,13,22,37,52,49,46,71,56,42]   _   Expected result: [13, 22, 29, 37, 42, 46, 49, 56, 71]\n",
    "\n",
    "def mergeSort(mylist):\n",
    "    if len(mylist) > 1:\n",
    "        mid = len(mylist) // 2\n",
    "        left = mylist[:mid]\n",
    "        right = mylist[mid:]\n",
    "\n",
    "        # Recursive call on each half\n",
    "        mergeSort(left)\n",
    "        mergeSort(right)\n",
    "\n",
    "        # Two iterators for traversing the two halves\n",
    "        i = 0\n",
    "        j = 0\n",
    "        \n",
    "        # Iterator for the main list\n",
    "        k = 0\n",
    "        \n",
    "        while i < len(left) and j < len(right):\n",
    "            if left[i] < right[j]:\n",
    "              # The value from the left half has been used\n",
    "              mylist[k] = left[i]\n",
    "              # Move the iterator forward\n",
    "              i += 1\n",
    "            else:\n",
    "                mylist[k] = right[j]\n",
    "                j += 1\n",
    "            # Move to the next slot\n",
    "            k += 1\n",
    "\n",
    "        # For all the remaining values\n",
    "        while i < len(left):\n",
    "            mylist[k] = left[i]\n",
    "            i += 1\n",
    "            k += 1\n",
    "\n",
    "        while j < len(right):\n",
    "            mylist[k]=right[j]\n",
    "            j += 1\n",
    "            k += 1\n",
    "\n",
    "my_list1 = [29,13,22,37,52,49,46,71,56,42]\n",
    "mergeSort(my_list1)\n",
    "print(my_list1)\n",
    "\n"
   ]
  },
  {
   "cell_type": "code",
   "execution_count": 35,
   "id": "56b582f5",
   "metadata": {},
   "outputs": [
    {
     "name": "stdout",
     "output_type": "stream",
     "text": [
      "[13, 22, 29, 37, 42, 46, 49, 52, 56, 71]\n"
     ]
    }
   ],
   "source": [
    "# 5) Write a Python program to sort a list of elements using the quick sort algorithm.\n",
    "# Sample Data: [29,13,22,37,52,49,46,71,56,42]   _   Expected result: [13, 22, 29, 37, 42, 46, 49, 56, 71]\n",
    "\n",
    "\n",
    "def quicksort(liste):\n",
    "    if len(liste) <= 1:\n",
    "        return liste\n",
    "    pivot = liste.pop()\n",
    "    petit = []\n",
    "    grand = []\n",
    "    for nombre in liste:\n",
    "        if nombre < pivot:\n",
    "            petit.append(nombre)\n",
    "        else:\n",
    "            grand.append(nombre)\n",
    "    return quicksort(petit) + [pivot] + quicksort(grand)\n",
    "\n",
    "liste = [29,13,22,37,52,49,46,71,56,42]\n",
    "print(quicksort(liste))\n",
    "\n"
   ]
  },
  {
   "cell_type": "code",
   "execution_count": null,
   "id": "287b41fa",
   "metadata": {},
   "outputs": [],
   "source": []
  }
 ],
 "metadata": {
  "kernelspec": {
   "display_name": "Python 3 (ipykernel)",
   "language": "python",
   "name": "python3"
  },
  "language_info": {
   "codemirror_mode": {
    "name": "ipython",
    "version": 3
   },
   "file_extension": ".py",
   "mimetype": "text/x-python",
   "name": "python",
   "nbconvert_exporter": "python",
   "pygments_lexer": "ipython3",
   "version": "3.9.13"
  }
 },
 "nbformat": 4,
 "nbformat_minor": 5
}
