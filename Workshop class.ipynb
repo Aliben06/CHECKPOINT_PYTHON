{
 "cells": [
  {
   "cell_type": "code",
   "execution_count": 2,
   "id": "139b80b9",
   "metadata": {},
   "outputs": [
    {
     "name": "stdout",
     "output_type": "stream",
     "text": [
      "Entrez votre texte: salut tout le monde\n",
      "SALUT TOUT LE MONDE\n"
     ]
    }
   ],
   "source": [
    "#Write a Python class which has two methods get_String and print_String. \n",
    "#get_String accept a string from the user and print_String print the string in upper case.\n",
    "\n",
    "class my_string:\n",
    "    def __init__(self):\n",
    "        self.string = \"\"\n",
    "        \n",
    "    def get_string(self):\n",
    "        self.string = input(\"Entrez votre texte: \")\n",
    "        \n",
    "    def print_string(self):\n",
    "        print(self.string.upper())\n",
    "    \n",
    "sp = my_string()\n",
    "sp.get_string()\n",
    "sp.print_string()"
   ]
  },
  {
   "cell_type": "code",
   "execution_count": null,
   "id": "6abc5cbd",
   "metadata": {},
   "outputs": [],
   "source": []
  }
 ],
 "metadata": {
  "kernelspec": {
   "display_name": "Python 3 (ipykernel)",
   "language": "python",
   "name": "python3"
  },
  "language_info": {
   "codemirror_mode": {
    "name": "ipython",
    "version": 3
   },
   "file_extension": ".py",
   "mimetype": "text/x-python",
   "name": "python",
   "nbconvert_exporter": "python",
   "pygments_lexer": "ipython3",
   "version": "3.9.13"
  }
 },
 "nbformat": 4,
 "nbformat_minor": 5
}
