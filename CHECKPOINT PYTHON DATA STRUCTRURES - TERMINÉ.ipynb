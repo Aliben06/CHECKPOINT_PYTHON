{
 "cells": [
  {
   "cell_type": "code",
   "execution_count": 6,
   "id": "ec1621dc",
   "metadata": {},
   "outputs": [
    {
     "name": "stdout",
     "output_type": "stream",
     "text": [
      "36\n"
     ]
    }
   ],
   "source": [
    "#Question 1: Write a Python program that multiplies all the items in a list.\n",
    "\n",
    "Sample_list = [2, 3, 6]\n",
    "\n",
    "Result = int(Sample_list[0]*Sample_list[1]*Sample_list[2])\n",
    "print(Result)"
   ]
  },
  {
   "cell_type": "code",
   "execution_count": 85,
   "id": "4b7547d2",
   "metadata": {},
   "outputs": [
    {
     "name": "stdout",
     "output_type": "stream",
     "text": [
      "[(2, 1), (1, 2), (2, 3), (4, 4), (2, 5)]\n"
     ]
    }
   ],
   "source": [
    "#Question 2: Write a Python program to get a list, sorted in increasing order by the last element in each tuple, \n",
    "#from a given list of non-empty tuples.\n",
    "#Sample List : [(2, 5), (1, 2), (4, 4), (2, 3), (2, 1)]\n",
    "#Expected result : [(2, 1), (1, 2), (2, 3), (4, 4), (2, 5)]\n",
    "#Hint: You can use the sort function.\n",
    "\n",
    "Sample_List = [(2, 5), (1, 2), (4, 4), (2, 3), (2, 1)]\n",
    "for i in range(len(Sample_List)): #Le compteur i correspond aux indexes du tuple (Sample_List)\n",
    "    New_List = (Sample_List[i][1],Sample_List[i][0])\n",
    "    Sample_List[i] = New_List    \n",
    "Sample_List[:][1] = Sample_List.sort()\n",
    "\n",
    "for i in range(len(Sample_List)): #Le compteur i correspond aux indexes du tuple (Sample_List)\n",
    "    New_List = (Sample_List[i][1],Sample_List[i][0])\n",
    "    Sample_List[i] = New_List  \n",
    "    \n",
    "print (Sample_List)"
   ]
  },
  {
   "cell_type": "code",
   "execution_count": 88,
   "id": "10ffa56a",
   "metadata": {},
   "outputs": [
    {
     "name": "stdout",
     "output_type": "stream",
     "text": [
      "[(2, 1), (1, 2), (2, 3), (4, 4), (2, 5)]\n"
     ]
    }
   ],
   "source": [
    "#Or\n",
    "Sample_List = [(2, 5), (1, 2), (4, 4), (2, 3), (2, 1)]\n",
    "Sample_List.sort(key=lambda x: x[1])\n",
    "\n",
    "print(Sample_List)"
   ]
  },
  {
   "cell_type": "code",
   "execution_count": 132,
   "id": "c9f47642",
   "metadata": {},
   "outputs": [
    {
     "name": "stdout",
     "output_type": "stream",
     "text": [
      "{'a': 400, 'b': 400, 'd': 400, 'c': 300}\n"
     ]
    }
   ],
   "source": [
    "#Question 3: Write a Python program that combines two dictionaries by adding values for common keys.\n",
    "#d1 = {'a': 100, 'b': 200, 'c':300}\n",
    "#d2 = {'a': 300, 'b': 200, 'd':400}\n",
    "#Expected result: {'a': 400, 'b': 400, 'd': 400, 'c': 300}\n",
    "\n",
    "d1 = {'a': 100, 'b': 200, 'c':300} \n",
    "d2 = {'a': 300, 'b': 200, 'd':400}\n",
    "d3 = {'a': d1['a']+d2['a'], 'b':d1['b']+d2['b'],'d':400, 'c':300}\n",
    "print(d3)"
   ]
  },
  {
   "cell_type": "code",
   "execution_count": 69,
   "id": "1ddfa471",
   "metadata": {},
   "outputs": [
    {
     "name": "stdout",
     "output_type": "stream",
     "text": [
      "{'a': 400, 'c': 300, 'b': 400, 'd': 400}\n"
     ]
    }
   ],
   "source": [
    "#or\n",
    "d1 = {'a': 100, 'b': 200, 'c':300} \n",
    "d2 = {'a': 300, 'b': 200, 'd':400}\n",
    "d3 = {}\n",
    "for key in d1.keys() | d2.keys():\n",
    "        d3[key] = d1.get(key, 0) + d2.get(key, 0)\n",
    "print(d3)    "
   ]
  },
  {
   "cell_type": "code",
   "execution_count": 73,
   "id": "dead5cc2",
   "metadata": {},
   "outputs": [
    {
     "name": "stdout",
     "output_type": "stream",
     "text": [
      "{'a': 400, 'b': 400, 'c': 300, 'd': 400}\n"
     ]
    }
   ],
   "source": [
    "#or\n",
    "d1 = {'a': 100, 'b': 200, 'c': 300}\n",
    "d2 = {'a': 300, 'b': 200, 'd': 400}\n",
    "result = {}\n",
    "# iterate over d1 and add the values to the result dictionary\n",
    "for key, value in d1.items():\n",
    "    result[key] = value\n",
    "# iterate over d2 and add the values to the result dictionary\n",
    "# for common keys, add the values together\n",
    "for key, value in d2.items():\n",
    "    if key in result:\n",
    "        result[key] += value\n",
    "    else:\n",
    "        result[key] = value\n",
    "print(result)"
   ]
  },
  {
   "cell_type": "code",
   "execution_count": 144,
   "id": "8ad648f6",
   "metadata": {},
   "outputs": [
    {
     "name": "stdout",
     "output_type": "stream",
     "text": [
      "Entrez un nombre, les carrés de tout les nombres inférieur ou égal à celui-ci s'afficheront: 8\n",
      "{1: 1, 2: 4, 3: 9, 4: 16, 5: 25, 6: 36, 7: 49, 8: 64}\n"
     ]
    }
   ],
   "source": [
    "#Question 4: With a given integral number n, write a program to generate a dictionary that contains (i, i*i) \n",
    "#so that is an integral number between 1 and n (both included). Then the program should print the dictionary. \n",
    "#Suppose the following input is supplied to the program: 8. \n",
    "#Then, the output should be: {1: 1, 2: 4, 3: 9, 4: 16, 5: 25, 6: 36, 7: 49, 8: 64}\n",
    "\n",
    "given_number = int(input(\"Entrez un nombre, les carrés de tout les nombres inférieur ou égal à celui-ci s'afficheront: \"))\n",
    "result ={}\n",
    "for i in range(1, given_number+1):\n",
    "    result[i] = i**2  \n",
    "print(result)   \n"
   ]
  },
  {
   "cell_type": "code",
   "execution_count": 143,
   "id": "48b1c98b",
   "metadata": {},
   "outputs": [
    {
     "name": "stdout",
     "output_type": "stream",
     "text": [
      "Entrez un nombre, les carrés de tout les nombres inférieur ou égal à celui-ci s'afficheront: 8\n",
      "{1: 1, 2: 4, 3: 9, 4: 16, 5: 25, 6: 36, 7: 49, 8: 64}\n"
     ]
    }
   ],
   "source": [
    "#Or\n",
    "given_number = int(input(\"Entrez un nombre, les carrés de tout les nombres inférieur ou égal à celui-ci s'afficheront: \"))\n",
    "dictionary = {}\n",
    "\n",
    "for i in range(1, given_number+1):\n",
    "    dictionary[i] = i*i\n",
    "print(dictionary)    \n"
   ]
  },
  {
   "cell_type": "code",
   "execution_count": 211,
   "id": "fa61ac84",
   "metadata": {},
   "outputs": [
    {
     "name": "stdout",
     "output_type": "stream",
     "text": [
      "[('item3', '24.5'), ('item2', '15.10'), ('item1', '12.20')]\n"
     ]
    }
   ],
   "source": [
    "#Question 5: Write a program to sort a tuple by its float element.\n",
    "#For example: list= [('item1', '12.20'), ('item2', '15.10'), ('item3', '24.5')]\n",
    "#Expected result: [('item3', '24.5'), ('item2', '15.10'), ('item1', '12.20')]\n",
    "\n",
    "list= [('item1', '12.20'), ('item2', '15.10'), ('item3', '24.5')]\n",
    "list[:][1]=list.sort(reverse=True)\n",
    "print (list)"
   ]
  },
  {
   "cell_type": "code",
   "execution_count": 213,
   "id": "accc2a1b",
   "metadata": {},
   "outputs": [
    {
     "name": "stdout",
     "output_type": "stream",
     "text": [
      "[('item2', '24.5'), ('item1', '15.10'), ('item3', '12.20')]\n"
     ]
    }
   ],
   "source": [
    "#Or\n",
    "list= [('item3', '12.20'), ('item1', '15.10'), ('item2', '24.5')]\n",
    "for i in range(len(list)):\n",
    "    new=(list[i][1],list[i][0])\n",
    "    list[i]=new  \n",
    "list.sort(reverse=True)\n",
    "\n",
    "for i in range(len(list)):\n",
    "    new=(list[i][1],list[i][0])\n",
    "    list[i]=new  \n",
    "    \n",
    "print(list)    "
   ]
  },
  {
   "cell_type": "code",
   "execution_count": 96,
   "id": "a48da79e",
   "metadata": {},
   "outputs": [
    {
     "name": "stdout",
     "output_type": "stream",
     "text": [
      "Entrez les éléments de l'ensemble séparés par des espaces: java python\n",
      "Voici la set que vous avez créé: {'java', 'python'}\n",
      "Itération sur l'ensemble:  java\n",
      "python\n",
      "Voulez-vous ajouter un element ? oui\n",
      "Taper l'élément: R\n",
      "{'java', 'python', 'R'}\n",
      "Voulez-vous supprimer un element ? oui\n",
      "Taper l'élément: java\n",
      "{'python', 'R'}\n"
     ]
    }
   ],
   "source": [
    "#Question 6: Write a Python program to create a set. Examples : {0, 1, 2, 3, 4}\n",
    "given = set(input(\"Entrez les éléments de l'ensemble séparés par des espaces: \").split())\n",
    "#.split() est une méthode de chaîne qui permet de diviser une chaîne de caractères en une liste de sous-chaînes, \n",
    "#en utilisant un délimiteur spécifié. La méthode prend en paramètre optionnel un caractère ou une chaîne de caractères\n",
    "#qui sert de délimiteur pour diviser la chaîne de caractères. Par défaut, si aucun délimiteur n'est spécifié, la méthode \n",
    "#considère les espaces comme délimiteur et sépare la chaîne de caractères en sous-chaînes aux emplacements des espaces.\n",
    "print(\"Voici la set que vous avez créé:\",given)\n",
    "\n",
    "#Write a Python program to iteration over sets.\n",
    "print (\"Itération sur l'ensemble: \",end=\" \")\n",
    "for element in given:\n",
    "       print(element)\n",
    "        \n",
    "#Write a Python program to add members in a set and to remove items from a given set.\n",
    "a=input((\"Voulez-vous ajouter un element ? \"))\n",
    "if a in [\"oui\" or \"o\" or \"OUI\" or \"Oui\"]:    \n",
    "        b=(input(\"Taper l'élément: \"))\n",
    "        given.add(b)\n",
    "        print(given)\n",
    "else:\n",
    "    pass\n",
    "c=input((\"Voulez-vous supprimer un element ? \"))\n",
    "if c in [\"oui\" or \"o\" or \"OUI\" or \"Oui\"]:\n",
    "    d=(input(\"Taper l'élément: \"))\n",
    "    given.remove(d)\n",
    "    print(given)\n"
   ]
  },
  {
   "cell_type": "code",
   "execution_count": 95,
   "id": "99a80409",
   "metadata": {},
   "outputs": [
    {
     "name": "stdout",
     "output_type": "stream",
     "text": [
      "Entrez les éléments de l'ensemble séparés par des espaces: python java\n",
      "Voici la set que vous avez créé: {'java', 'python'}\n",
      "Itération sur l'ensemble:  java python Voulez-vous ajouter un element ? non\n",
      "Voulez-vous supprimer un element ? non\n"
     ]
    }
   ],
   "source": [
    "#2eme essai: avec réponse \"non\"\n",
    "given = set(input(\"Entrez les éléments de l'ensemble séparés par des espaces: \").split())\n",
    "print(\"Voici la set que vous avez créé:\",given)\n",
    "\n",
    "print (\"Itération sur l'ensemble: \",end=\" \")\n",
    "for element in given:\n",
    "       print(element, end=\" \")\n",
    "        \n",
    "a=input((\"Voulez-vous ajouter un element ? \"))\n",
    "if a in [\"oui\" or \"o\" or \"OUI\" or \"Oui\"]:    \n",
    "        b=(input(\"Taper l'élément: \"))\n",
    "        given.add(b)\n",
    "        print(given)\n",
    "else:\n",
    "    pass\n",
    "c=input((\"Voulez-vous supprimer un element ? \"))\n",
    "if c in [\"oui\" or \"o\" or \"OUI\" or \"Oui\"]:\n",
    "    d=(input(\"Taper l'élément: \"))\n",
    "    given.remove(d)\n",
    "    print(given)\n"
   ]
  },
  {
   "cell_type": "code",
   "execution_count": null,
   "id": "b218798b",
   "metadata": {},
   "outputs": [],
   "source": []
  }
 ],
 "metadata": {
  "kernelspec": {
   "display_name": "Python 3 (ipykernel)",
   "language": "python",
   "name": "python3"
  },
  "language_info": {
   "codemirror_mode": {
    "name": "ipython",
    "version": 3
   },
   "file_extension": ".py",
   "mimetype": "text/x-python",
   "name": "python",
   "nbconvert_exporter": "python",
   "pygments_lexer": "ipython3",
   "version": "3.9.13"
  }
 },
 "nbformat": 4,
 "nbformat_minor": 5
}
