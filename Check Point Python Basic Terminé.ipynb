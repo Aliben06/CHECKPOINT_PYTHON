{
 "cells": [
  {
   "cell_type": "code",
   "execution_count": 1,
   "id": "84e7d6ae",
   "metadata": {},
   "outputs": [
    {
     "name": "stdout",
     "output_type": "stream",
     "text": [
      "Entrez votre nom : BenNejma\n",
      "Entrer votre prénom : Ali\n",
      "Ali BenNejma\n"
     ]
    }
   ],
   "source": [
    "#Question 1: Write a Python program that accepts the user's first and last name,\n",
    "#and prints them in reverse order with a space between them.\n",
    "\n",
    "first_name = input(\"Entrez votre nom : \")\n",
    "last_name = input(\"Entrer votre prénom : \")\n",
    "\n",
    "print(last_name,first_name)"
   ]
  },
  {
   "cell_type": "code",
   "execution_count": 2,
   "id": "dbc08b1a",
   "metadata": {},
   "outputs": [
    {
     "name": "stdout",
     "output_type": "stream",
     "text": [
      "615\n"
     ]
    }
   ],
   "source": [
    "#Question 2: Write a Python program that accepts an integer (n) and computes the value of n+nn+nnn.\n",
    "#The sample value of n is 5. Expected Result: 615 (5+55+555).\n",
    "\n",
    "Value = \"5\"\n",
    "A = Value*2\n",
    "B = Value*3\n",
    "Result = int(Value) + int(A) + int(B)\n",
    "print(Result)"
   ]
  },
  {
   "cell_type": "code",
   "execution_count": 3,
   "id": "57c92358",
   "metadata": {},
   "outputs": [
    {
     "name": "stdout",
     "output_type": "stream",
     "text": [
      "Donner votre nombre : 1\n",
      "Le nombre est impaire !\n"
     ]
    }
   ],
   "source": [
    "#Question 3: Write a Python program to find whether a given number (accept from the user) is even or odd, \n",
    "#and print out an appropriate message to the user.\n",
    "\n",
    "given_number = input(\"Donner votre nombre : \")\n",
    "\n",
    "if int(given_number) %2 == 0 :\n",
    "    print(\"Le nombre est paire !\")\n",
    "else :\n",
    "    print(\"Le nombre est impaire !\")"
   ]
  },
  {
   "cell_type": "code",
   "execution_count": 4,
   "id": "df3c6168",
   "metadata": {},
   "outputs": [
    {
     "name": "stdout",
     "output_type": "stream",
     "text": [
      "The numbers that are divisible by 7 but not a multiple of 5 are: \n",
      "2002\n",
      "2009\n",
      "2016\n",
      "2023\n",
      "2037\n",
      "2044\n",
      "2051\n",
      "2058\n",
      "2072\n",
      "2079\n",
      "2086\n",
      "2093\n",
      "2107\n",
      "2114\n",
      "2121\n",
      "2128\n",
      "2142\n",
      "2149\n",
      "2156\n",
      "2163\n",
      "2177\n",
      "2184\n",
      "2191\n",
      "2198\n",
      "2212\n",
      "2219\n",
      "2226\n",
      "2233\n",
      "2247\n",
      "2254\n",
      "2261\n",
      "2268\n",
      "2282\n",
      "2289\n",
      "2296\n",
      "2303\n",
      "2317\n",
      "2324\n",
      "2331\n",
      "2338\n",
      "2352\n",
      "2359\n",
      "2366\n",
      "2373\n",
      "2387\n",
      "2394\n",
      "2401\n",
      "2408\n",
      "2422\n",
      "2429\n",
      "2436\n",
      "2443\n",
      "2457\n",
      "2464\n",
      "2471\n",
      "2478\n",
      "2492\n",
      "2499\n",
      "2506\n",
      "2513\n",
      "2527\n",
      "2534\n",
      "2541\n",
      "2548\n",
      "2562\n",
      "2569\n",
      "2576\n",
      "2583\n",
      "2597\n",
      "2604\n",
      "2611\n",
      "2618\n",
      "2632\n",
      "2639\n",
      "2646\n",
      "2653\n",
      "2667\n",
      "2674\n",
      "2681\n",
      "2688\n",
      "2702\n",
      "2709\n",
      "2716\n",
      "2723\n",
      "2737\n",
      "2744\n",
      "2751\n",
      "2758\n",
      "2772\n",
      "2779\n",
      "2786\n",
      "2793\n",
      "2807\n",
      "2814\n",
      "2821\n",
      "2828\n",
      "2842\n",
      "2849\n",
      "2856\n",
      "2863\n",
      "2877\n",
      "2884\n",
      "2891\n",
      "2898\n",
      "2912\n",
      "2919\n",
      "2926\n",
      "2933\n",
      "2947\n",
      "2954\n",
      "2961\n",
      "2968\n",
      "2982\n",
      "2989\n",
      "2996\n",
      "3003\n",
      "3017\n",
      "3024\n",
      "3031\n",
      "3038\n",
      "3052\n",
      "3059\n",
      "3066\n",
      "3073\n",
      "3087\n",
      "3094\n",
      "3101\n",
      "3108\n",
      "3122\n",
      "3129\n",
      "3136\n",
      "3143\n",
      "3157\n",
      "3164\n",
      "3171\n",
      "3178\n",
      "3192\n",
      "3199\n"
     ]
    }
   ],
   "source": [
    "#Question 4: Write a program which will find all such numbers which are divisible by 7 but are not a multiple of 5, \n",
    "#between 2000 and 3200 (both included). The numbers obtained should be printed in a sequence on a single line.\n",
    "#Hints: Consider use range(#begin, #end) method.\n",
    "\n",
    "print(\"The numbers that are divisible by 7 but not a multiple of 5 are: \")\n",
    "for x in range(2000, 3201):\n",
    " if x % 7 == 0 and x %5 != 0 :\n",
    "    print(x)"
   ]
  },
  {
   "cell_type": "code",
   "execution_count": 6,
   "id": "637374da",
   "metadata": {},
   "outputs": [
    {
     "name": "stdout",
     "output_type": "stream",
     "text": [
      "Les nombres qui sont divisibles par 7 mais qui ne sont pas des multiples de 5 sont: 2002, 2009, 2016, 2023, 2037, 2044, 2051, 2058, 2072, 2079, 2086, 2093, 2107, 2114, 2121, 2128, 2142, 2149, 2156, 2163, 2177, 2184, 2191, 2198, 2212, 2219, 2226, 2233, 2247, 2254, 2261, 2268, 2282, 2289, 2296, 2303, 2317, 2324, 2331, 2338, 2352, 2359, 2366, 2373, 2387, 2394, 2401, 2408, 2422, 2429, 2436, 2443, 2457, 2464, 2471, 2478, 2492, 2499, 2506, 2513, 2527, 2534, 2541, 2548, 2562, 2569, 2576, 2583, 2597, 2604, 2611, 2618, 2632, 2639, 2646, 2653, 2667, 2674, 2681, 2688, 2702, 2709, 2716, 2723, 2737, 2744, 2751, 2758, 2772, 2779, 2786, 2793, 2807, 2814, 2821, 2828, 2842, 2849, 2856, 2863, 2877, 2884, 2891, 2898, 2912, 2919, 2926, 2933, 2947, 2954, 2961, 2968, 2982, 2989, 2996, 3003, 3017, 3024, 3031, 3038, 3052, 3059, 3066, 3073, 3087, 3094, 3101, 3108, 3122, 3129, 3136, 3143, 3157, 3164, 3171, 3178, 3192, 3199, "
     ]
    }
   ],
   "source": [
    "#Or\n",
    "print(\"Les nombres qui sont divisibles par 7 mais qui ne sont pas des multiples de 5 sont: \", end=\"\")\n",
    "for x in range(2000, 3201):\n",
    "    if x % 7 == 0 and x % 5 != 0:\n",
    "        print(x, end=\", \")"
   ]
  },
  {
   "cell_type": "code",
   "execution_count": 40,
   "id": "446ee512",
   "metadata": {},
   "outputs": [
    {
     "name": "stdout",
     "output_type": "stream",
     "text": [
      "Donnez un nombre, le resultat s'affichera en factoriel : 8\n",
      "Le factoriel de 8 est 40320\n",
      "Voulez-vous entrer un autre nombre ? / (Oui/Non)oui\n",
      "Donnez un nombre, le resultat s'affichera en factoriel : 10\n",
      "Le factoriel de 10 est 3628800\n",
      "Voulez-vous entrer un autre nombre ? / (Oui/Non)non\n"
     ]
    }
   ],
   "source": [
    "#Question 5: Write a program that can compute the factorial of a given number. \n",
    "#The results should be printed in a sequence on a single line. Suppose the following input is supplied to the program: 8. \n",
    "#Then, the output should be: 40320 \n",
    "#Hint: The factorial function (symbol: !) multiplies all whole numbers from our chosen number down to 1. Examples: \n",
    "#4! = 4 × 3 × 2 × 1      #8! = 8 × 7 × 6 × 5 × 4 × 3 × 2 × 1      #1! = 1      #0! = 1 (by convention)\n",
    "\n",
    "import math\n",
    "while True:\n",
    "    given_number = int(input(\"Donnez un nombre, le resultat s'affichera en factoriel : \"))\n",
    "    result= math.factorial(given_number)\n",
    "    print(\"Le factoriel de\" ,given_number,\"est\" ,result)\n",
    "\n",
    "    Continuer = input(\"Voulez-vous entrer un autre nombre ? / (Oui/Non)\")\n",
    "    if Continuer in [\"Non\", \"non\", \"n\"]:\n",
    "        break \n",
    "    "
   ]
  },
  {
   "cell_type": "code",
   "execution_count": 42,
   "id": "4cbfd9a4",
   "metadata": {},
   "outputs": [
    {
     "name": "stdout",
     "output_type": "stream",
     "text": [
      "Donnez un nombre, le résultat s'affichera en factoriel : 8\n",
      "Le factoriel de 8 est 40320\n",
      "Voulez-vous entrer un autre nombre ? (Oui/Non) non\n"
     ]
    }
   ],
   "source": [
    "#Or\n",
    "import math\n",
    "\n",
    "while True:\n",
    "    given_number = int(input(\"Donnez un nombre, le résultat s'affichera en factoriel : \"))\n",
    "    result = math.factorial(given_number)\n",
    "    print(\"Le factoriel de\", given_number, \"est\", result, end='')\n",
    "\n",
    "    continuer = input(\"\\nVoulez-vous entrer un autre nombre ? (Oui/Non) \")\n",
    "    if continuer.lower() in [\"non\", \"n\"]:\n",
    "        break"
   ]
  },
  {
   "cell_type": "code",
   "execution_count": 45,
   "id": "c37f415f",
   "metadata": {},
   "outputs": [
    {
     "name": "stdout",
     "output_type": "stream",
     "text": [
      "Donnez un nombre, le resultat s'affichera en factoriel : 8\n",
      "Le factoriel de 8 est 40320\n",
      "Voulez-vous entrer un autre nombre ? / (Oui/Non)non\n"
     ]
    }
   ],
   "source": [
    "#Or\n",
    "import math\n",
    "while True:\n",
    "    given_number = int(input(\"Donnez un nombre, le resultat s'affichera en factoriel : \"))\n",
    "    result= math.factorial(given_number)\n",
    "    print(\"Le factoriel de\" ,given_number,\"est\" ,result)\n",
    "\n",
    "    Continuer = input(\"Voulez-vous entrer un autre nombre ? / (Oui/Non)\")\n",
    "    if Continuer in [\"Non\", \"non\"]:\n",
    "        break "
   ]
  },
  {
   "cell_type": "code",
   "execution_count": 46,
   "id": "844126c6",
   "metadata": {},
   "outputs": [
    {
     "name": "stdout",
     "output_type": "stream",
     "text": [
      "Entrez votre texte. Les caractères dont les positions sont impaires dans l'index des valeurs seront supprimés : hello team\n",
      "Resultat : hlota\n"
     ]
    }
   ],
   "source": [
    "#Question 6: Write a program to remove the characters which have odd index values of a given string.\n",
    "#For example: string =\"hello team\"  #The result should be: hlota\n",
    "\n",
    "given_string = input(\"Entrez votre texte. Les caractères dont les positions sont impaires dans l'index des valeurs seront supprimés : \")\n",
    "resultat = given_string[0::2]\n",
    "print (\"Resultat :\" ,resultat)"
   ]
  },
  {
   "cell_type": "code",
   "execution_count": 47,
   "id": "52cf002a",
   "metadata": {},
   "outputs": [
    {
     "name": "stdout",
     "output_type": "stream",
     "text": [
      "Entrer le prix total, nous vous informerons de la reduction: 600\n",
      "Une reduction de 50% a été faite le prix final est donc:  300.0\n",
      "Voulez-vous entrer un autre prix ? / (Oui/Non)oui\n",
      "Entrer le prix total, nous vous informerons de la reduction: 350\n",
      "Une reduction de 30% a été faite le prix final est donc:  245.0\n",
      "Voulez-vous entrer un autre prix ? / (Oui/Non)oui\n",
      "Entrer le prix total, nous vous informerons de la reduction: 145\n",
      "Une reduction de 10% a été faite le prix final est donc:  130.5\n",
      "Voulez-vous entrer un autre prix ? / (Oui/Non)non\n"
     ]
    }
   ],
   "source": [
    "#Question 7: In this challenge, you must discount a price according to its value.\n",
    "#- If the price is 500 or above, there will be a 50% discount.\n",
    "#- If the price is between 200 and 500 (200 inclusive), there will be a 30% discount.\n",
    "#- If the price is less than 200, there will be a 10% discount.\n",
    "while True: \n",
    "    given_number = int(input(\"Entrer le prix total, nous vous informerons de la reduction: \" ))\n",
    "    if given_number >= 500 :\n",
    "        print(\"Une reduction de 50% a été faite le prix final est donc: \",(given_number * 0.5))\n",
    "    if given_number in range(200,500):\n",
    "        print(\"Une reduction de 30% a été faite le prix final est donc: \",given_number-(given_number * 0.3))\n",
    "    if given_number < 200 :\n",
    "        print(\"Une reduction de 10% a été faite le prix final est donc: \",given_number-(given_number * 0.1))\n",
    "\n",
    "    continuer = input(\"Voulez-vous entrer un autre prix ? / (Oui/Non)\")\n",
    "    if continuer.lower() in [\"non\", \"n\"]:\n",
    "        break"
   ]
  },
  {
   "cell_type": "code",
   "execution_count": null,
   "id": "5cf89278",
   "metadata": {},
   "outputs": [],
   "source": []
  }
 ],
 "metadata": {
  "kernelspec": {
   "display_name": "Python 3 (ipykernel)",
   "language": "python",
   "name": "python3"
  },
  "language_info": {
   "codemirror_mode": {
    "name": "ipython",
    "version": 3
   },
   "file_extension": ".py",
   "mimetype": "text/x-python",
   "name": "python",
   "nbconvert_exporter": "python",
   "pygments_lexer": "ipython3",
   "version": "3.9.13"
  }
 },
 "nbformat": 4,
 "nbformat_minor": 5
}
