{
 "cells": [
  {
   "cell_type": "code",
   "execution_count": 1,
   "id": "c36f4c26",
   "metadata": {},
   "outputs": [
    {
     "name": "stdout",
     "output_type": "stream",
     "text": [
      "[1 2 3 4 5]\n",
      "<class 'numpy.ndarray'> \n",
      "\n",
      "[1, 2, 3, 4, 5]\n",
      "<class 'list'>\n"
     ]
    }
   ],
   "source": [
    "#Question 1 : Write a Python program to convert an array to an ordinary list with the same items.\n",
    "#We can use the np.tolist() function.\n",
    "\n",
    "import numpy as np\n",
    "\n",
    "my_array = np.array([1, 2, 3, 4, 5])\n",
    "print(my_array)\n",
    "print(type(my_array),\"\\n\")\n",
    "\n",
    "my_list = my_array.tolist()\n",
    "print(my_list)\n",
    "print(type(my_list))\n",
    "\n"
   ]
  },
  {
   "cell_type": "code",
   "execution_count": 2,
   "id": "2d55778f",
   "metadata": {},
   "outputs": [
    {
     "name": "stdout",
     "output_type": "stream",
     "text": [
      "[[9 9 4 7 0]\n",
      " [3 3 0 5 7]\n",
      " [2 8 0 8 8]\n",
      " [8 5 6 7 4]\n",
      " [1 4 9 7 3]]\n",
      "La somme des éléments diagonaux est: 22 \n",
      "\n",
      "[[9 7 9 6 4]\n",
      " [2 5 1 8 3]\n",
      " [4 0 3 5 3]\n",
      " [7 3 3 3 5]\n",
      " [7 2 7 3 1]]\n",
      "La somme des éléments diagonaux est: 21 \n",
      "\n",
      "[[8 0 1 3 5]\n",
      " [2 9 5 3 4]\n",
      " [9 4 5 6 7]\n",
      " [9 6 1 0 4]\n",
      " [6 3 4 9 0]]\n",
      "La somme des éléments diagonaux est: 22\n"
     ]
    }
   ],
   "source": [
    "#Question 2: Write a NumPy program to compute the sum of the diagonal elements of a given array.\n",
    "#Hint: There are two possible methods to solve this problem: 1.Manually (without direct function). 2.Using the trace function\n",
    "\n",
    "import numpy as np\n",
    "#Manually method:\n",
    "my_array = np.random.randint(0,10 ,size=(5,5))\n",
    "print(my_array)\n",
    "sum = my_array[0,0]+my_array[1,1]+my_array[2,2]+my_array[3,3]+my_array[4,4]\n",
    "print(\"La somme des éléments diagonaux est:\",sum,\"\\n\")\n",
    "\n",
    "#Using the trace function method:\n",
    "my_array = np.random.randint(0,10 ,size=(5,5))\n",
    "print(my_array)\n",
    "sum = my_array.trace()\n",
    "print(\"La somme des éléments diagonaux est:\",sum,\"\\n\")\n",
    "\n",
    "#Or\n",
    "my_array = np.random.randint(0,10 ,size=(5,5))\n",
    "print(my_array)\n",
    "sum = np.trace(my_array)\n",
    "print(\"La somme des éléments diagonaux est:\",sum)"
   ]
  },
  {
   "cell_type": "code",
   "execution_count": 3,
   "id": "2cda69f4",
   "metadata": {},
   "outputs": [
    {
     "name": "stdout",
     "output_type": "stream",
     "text": [
      "[[20 14]\n",
      " [ 7  9]\n",
      " [18  7]] \n",
      "\n",
      "Toutes les valeurs supérieures à 15 dans le tableau sont : [20 18]\n"
     ]
    }
   ],
   "source": [
    "#Question 3 : Given an array of your choice, get all the values higher than X:\n",
    "#If a = [[1,2],[3,5]] and x = 2 : then 3 and 5 are higher than 2.\n",
    "\n",
    "x=15\n",
    "my_array = np.random.randint(0,25 ,size=(3,2))\n",
    "print(my_array,\"\\n\")\n",
    "\n",
    "#Nous créons un masque booléen a > x qui renvoie un tableau booléen de la même forme que a avec des valeurs \n",
    "#True là où la condition est satisfaite et des valeurs False sinon. Ensuite, nous utilisons ce tableau booléen \n",
    "#pour indexer le tableau original a et récupérer toutes les valeurs qui satisfont la condition.\n",
    "higher_than_x= my_array[my_array > x] \n",
    "print(\"Toutes les valeurs supérieures à\", x, \"dans le tableau sont :\", higher_than_x)"
   ]
  },
  {
   "cell_type": "code",
   "execution_count": 4,
   "id": "fddc427a",
   "metadata": {},
   "outputs": [
    {
     "name": "stdout",
     "output_type": "stream",
     "text": [
      "Tableau :\n",
      "[[14  9]\n",
      " [16  0]\n",
      " [19 14]]\n",
      "\n",
      "Les valeurs supérieures à 15 dans le tableau sont :\n",
      "16\n",
      "19\n"
     ]
    }
   ],
   "source": [
    "#Or\n",
    "\n",
    "# Définir la valeur de x\n",
    "x = 15\n",
    "# Créer un tableau avec des valeurs aléatoires\n",
    "my_array = np.random.randint(0, 25, size=(3, 2))\n",
    "\n",
    "# Afficher le tableau\n",
    "print(\"Tableau :\")\n",
    "print(my_array)\n",
    "\n",
    "# Initialiser une liste pour stocker les valeurs supérieures à x\n",
    "values_above_x = []\n",
    "\n",
    "# Parcourir toutes les valeurs du tableau en les aplatissant avec flatten()\n",
    "for i in my_array.flatten():\n",
    "    if i > x:\n",
    "        # Si la valeur est supérieure à x, l'ajouter à la liste\n",
    "        values_above_x.append(i)\n",
    "\n",
    "# Afficher les valeurs supérieures à x\n",
    "if len(values_above_x) > 0:\n",
    "    print(\"\\nLes valeurs supérieures à\", x, \"dans le tableau sont :\")\n",
    "    for value in values_above_x:\n",
    "        print(value)\n",
    "else:\n",
    "    print(\"\\nAucune valeur n'est supérieure à\", x, \"dans le tableau.\")"
   ]
  },
  {
   "cell_type": "code",
   "execution_count": 5,
   "id": "510e5c8e",
   "metadata": {},
   "outputs": [
    {
     "name": "stdout",
     "output_type": "stream",
     "text": [
      "[[ 8 10 12]\n",
      " [14 16 18]] \n",
      "\n",
      "[[ 8 10 12]\n",
      " [14 16 18]] \n",
      "\n",
      "[[ 8 10 12]\n",
      " [14 16 18]] \n",
      "\n",
      "A =\n",
      " [[1 2 3]\n",
      " [4 5 6]]\n",
      "B =\n",
      " [[ 7  8  9]\n",
      " [10 11 12]]\n",
      "C =\n",
      " [[ 8 10 12]\n",
      " [14 16 18]]\n"
     ]
    }
   ],
   "source": [
    "#Question 4: Given two arrays, A & B have the same shape. The task is to apply addition by hand: C is the new array. \n",
    "\n",
    "import numpy as np\n",
    "\n",
    "A = np.array([[1,2,3],[4,5,6]])\n",
    "B = np.array([[7,8,9],[10,11,12]])\n",
    "C = np.add(A,B)\n",
    "print(C,\"\\n\")\n",
    "\n",
    "#OR\n",
    "A = np.array([[1,2,3],[4,5,6]])\n",
    "B = np.array([[7,8,9],[10,11,12]])\n",
    "C = np.array([[0,0,0],[0,0,0]])\n",
    "\n",
    "for i in range(A.shape[0]):\n",
    "    for j in range(A.shape[1]):\n",
    "        C[i, j] = A[i, j] + B[i, j]\n",
    "print(C,\"\\n\")        \n",
    "\n",
    "#OR\n",
    "\n",
    "A = np.array([[1,2,3],[4,5,6]])\n",
    "B = np.array([[7,8,9],[10,11,12]])\n",
    "C = np.zeros_like(A) # Créer un tableau C de même forme que A, initialisé à zéro\n",
    "\n",
    "for i in range(A.shape[0]):  # Boucler sur les lignes de A et B\n",
    "    for j in range(A.shape[1]):  # Boucler sur les colonnes de A et B\n",
    "        C[i, j] = A[i, j] + B[i, j] # Ajouter chaque élément de A à l'élément correspondant de B\n",
    "print(C,\"\\n\") \n",
    "\n",
    "#OR\n",
    "A = np.array([[1,2,3],[4,5,6]])\n",
    "B = np.array([[7,8,9],[10,11,12]])\n",
    "\n",
    "rows, cols = A.shape   # Obtenir le nombre de lignes et de colonnes de A\n",
    "\n",
    "C = np.empty_like(A)   # Créer un tableau vide de même forme que A pour stocker le résultat\n",
    "\n",
    "# Parcourir chaque élément de A et B et ajouter les éléments correspondants pour obtenir C\n",
    "for i in range(rows):\n",
    "    for j in range(cols):\n",
    "        C[i,j] = A[i,j] + B[i,j]\n",
    "\n",
    "print(\"A =\\n\", A)\n",
    "print(\"B =\\n\", B)\n",
    "print(\"C =\\n\", C)\n"
   ]
  },
  {
   "cell_type": "code",
   "execution_count": 6,
   "id": "d46f2482",
   "metadata": {},
   "outputs": [
    {
     "name": "stdout",
     "output_type": "stream",
     "text": [
      "Matrice originale :\n",
      " [[ 21 452  43]\n",
      " [  4   5   6]\n",
      " [  7   8   9]]\n",
      "Moyenne de chaque ligne de la matrice:\n",
      " [172.   5.   8.]\n",
      "Matrice normalisée par soustraction de la moyenne de chaque ligne:\n",
      " [[-151.  280. -129.]\n",
      " [  -1.    0.    1.]\n",
      " [  -1.    0.    1.]]\n"
     ]
    }
   ],
   "source": [
    "#Question 5 : Write a NumPy program to subtract the mean of each row of a given matrix. Hint: use the mean function.\n",
    "\n",
    "# Définir la matrice\n",
    "C = np.array([[21,452,43],[4,5,6],[7,8,9]])\n",
    "# Calculer la moyenne de chaque ligne\n",
    "D = np.mean(C,axis=1)\n",
    "# Soustraire les moyennes de chaque ligne de la matrice\n",
    "C_normalized = C - D.reshape(-1, 1)\n",
    "\n",
    "\n",
    "print(\"Matrice originale :\\n\", C)\n",
    "print(\"Moyenne de chaque ligne de la matrice:\\n\",D)\n",
    "print(\"Matrice normalisée par soustraction de la moyenne de chaque ligne:\\n\", C_normalized)"
   ]
  },
  {
   "cell_type": "code",
   "execution_count": 7,
   "id": "b371c13f",
   "metadata": {},
   "outputs": [
    {
     "name": "stdout",
     "output_type": "stream",
     "text": [
      "La matrice:\n",
      " [[ 1  2  3  4]\n",
      " [ 5  6  7  8]\n",
      " [ 9 10 11 12]]\n",
      "Moyennes de chaque ligne :\n",
      " [ 2.5  6.5 10.5]\n",
      "Vecteur colonne des moyennes de chaque ligne : \n",
      " [[ 2.5]\n",
      " [ 6.5]\n",
      " [10.5]]\n",
      "Shape :  (3, 1)\n",
      "Matrice A normalisée par soustraction de la moyenne de chaque ligne : \n",
      " [[-1.5 -0.5  0.5  1.5]\n",
      " [-1.5 -0.5  0.5  1.5]\n",
      " [-1.5 -0.5  0.5  1.5]]\n"
     ]
    }
   ],
   "source": [
    "#OR\n",
    "import numpy as np\n",
    "\n",
    "# Matrice d'exemple 3x4\n",
    "A = np.array([[1, 2, 3, 4],\n",
    "              [5, 6, 7, 8],\n",
    "              [9, 10, 11, 12]])\n",
    "print(\"La matrice:\\n\",A)\n",
    "# Calcul des moyennes de chaque ligne\n",
    "row_means = np.mean(A, axis=1)\n",
    "print(\"Moyennes de chaque ligne :\\n\", row_means)\n",
    "\n",
    "# Réorganisation des moyennes de chaque ligne en un vecteur colonne 2D\n",
    "row_means_col = row_means.reshape(-1, 1)\n",
    "print(\"Vecteur colonne des moyennes de chaque ligne : \\n\", row_means_col)\n",
    "print(\"Shape : \", row_means_col.shape)\n",
    "\n",
    "# Soustraction de chaque élément de chaque ligne de la matrice A par la moyenne de cette ligne\n",
    "A_normalized = A - row_means_col\n",
    "print(\"Matrice A normalisée par soustraction de la moyenne de chaque ligne : \\n\", A_normalized)\n",
    "\n"
   ]
  },
  {
   "cell_type": "code",
   "execution_count": null,
   "id": "795af218",
   "metadata": {},
   "outputs": [],
   "source": []
  }
 ],
 "metadata": {
  "kernelspec": {
   "display_name": "Python 3 (ipykernel)",
   "language": "python",
   "name": "python3"
  },
  "language_info": {
   "codemirror_mode": {
    "name": "ipython",
    "version": 3
   },
   "file_extension": ".py",
   "mimetype": "text/x-python",
   "name": "python",
   "nbconvert_exporter": "python",
   "pygments_lexer": "ipython3",
   "version": "3.9.13"
  }
 },
 "nbformat": 4,
 "nbformat_minor": 5
}
